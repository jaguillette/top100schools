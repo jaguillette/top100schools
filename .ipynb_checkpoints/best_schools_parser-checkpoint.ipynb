{
 "metadata": {
  "name": "",
  "signature": "sha256:a1ce6676c4cc5c3e78228cd1509873f2b082c7fad6bf808f7120a40c3bdb5070"
 },
 "nbformat": 3,
 "nbformat_minor": 0,
 "worksheets": [
  {
   "cells": [
    {
     "cell_type": "code",
     "collapsed": false,
     "input": [
      "from lxml import html\n",
      "import requests, re\n",
      "import pandas as pd"
     ],
     "language": "python",
     "metadata": {},
     "outputs": [],
     "prompt_number": 7
    },
    {
     "cell_type": "code",
     "collapsed": false,
     "input": [
      "def top100parser(url):\n",
      "    R = requests.get(url)\n",
      "    page = html.fromstring(str(R.text))\n",
      "    schools = [e.text_content() for e in page.xpath(\"//div[@class=\\\"name\\\"]\")]\n",
      "    schools = schools[1:]\n",
      "    schools = [re.sub(r\"  +\",\"\",e) for e in schools]\n",
      "    schools = [e.strip() for e in schools]\n",
      "    schools = [e.split(\"\\r\\n\") for e in schools]\n",
      "    df_schools = pd.DataFrame(schools)\n",
      "    df_schools.index += 1\n",
      "    df_schools.columns = ['school_name','school_town']\n",
      "    df_schools['school_state'] = df_schools.school_town.str.split(', ',return_type='frame')[1]\n",
      "    state_replacers = [['Illinois','IL']]\n",
      "    for r in state_replacers:\n",
      "        df_schools.school_state=df_schools.school_state.replace(*r)\n",
      "    return df_schools"
     ],
     "language": "python",
     "metadata": {},
     "outputs": [],
     "prompt_number": 14
    },
    {
     "cell_type": "code",
     "collapsed": false,
     "input": [
      "def google_geocode(place):\n",
      "    url = 'https://maps.googleapis.com/maps/api/geocode/json'\n",
      "    Q = {'address':place}\n",
      "    R = requests.get(url,params=Q)\n",
      "    response = R.json()\n",
      "    searching = True\n",
      "    while searching:\n",
      "        if response['status'] == 'OK':\n",
      "            latlng = [response['results'][0]['geometry']['location']['lat'],response['results'][0]['geometry']['location']['lng']]\n",
      "            if len(latlng)==2:\n",
      "                #print(\"%s coded successfully\" % place)\n",
      "                return latlng[0], latlng[1]\n",
      "            else:\n",
      "                print(latlng,R.url)\n",
      "                continue\n",
      "        else:\n",
      "            print(R.url)\n",
      "            continue"
     ],
     "language": "python",
     "metadata": {},
     "outputs": [],
     "prompt_number": 3
    },
    {
     "cell_type": "code",
     "collapsed": false,
     "input": [
      "overall = top100parser(\"https://k12.niche.com/rankings/public-high-schools/best-overall/\")"
     ],
     "language": "python",
     "metadata": {},
     "outputs": [],
     "prompt_number": 21
    },
    {
     "cell_type": "code",
     "collapsed": false,
     "input": [
      "overall['lat'], overall['lng'] = zip(*overall.school_town.apply(google_geocode))"
     ],
     "language": "python",
     "metadata": {},
     "outputs": [],
     "prompt_number": 22
    },
    {
     "cell_type": "code",
     "collapsed": false,
     "input": [
      "overall.to_csv(\"overall.csv\")"
     ],
     "language": "python",
     "metadata": {},
     "outputs": [],
     "prompt_number": 23
    },
    {
     "cell_type": "code",
     "collapsed": false,
     "input": [
      "pa = top100parser('https://k12.niche.com/rankings/public-high-schools/best-overall/s/pennsylvania/?source=fba_pa_hs&utm_campaign=RankingsList&utm_medium=social&utm_source=facebook')"
     ],
     "language": "python",
     "metadata": {},
     "outputs": [],
     "prompt_number": 15
    },
    {
     "cell_type": "code",
     "collapsed": false,
     "input": [
      "pa['lat'], pa['lng'] = zip(*pa.school_town.apply(google_geocode))"
     ],
     "language": "python",
     "metadata": {},
     "outputs": [],
     "prompt_number": 16
    },
    {
     "cell_type": "code",
     "collapsed": false,
     "input": [
      "pa.to_csv('pa.csv')"
     ],
     "language": "python",
     "metadata": {},
     "outputs": [],
     "prompt_number": 17
    },
    {
     "cell_type": "code",
     "collapsed": false,
     "input": [
      "ma = top100parser('https://k12.niche.com/rankings/public-high-schools/best-overall/s/massachusetts/')"
     ],
     "language": "python",
     "metadata": {},
     "outputs": [],
     "prompt_number": 18
    },
    {
     "cell_type": "code",
     "collapsed": false,
     "input": [
      "ma['lat'], ma['lng'] = zip(*ma.school_town.apply(google_geocode))"
     ],
     "language": "python",
     "metadata": {},
     "outputs": [],
     "prompt_number": 19
    },
    {
     "cell_type": "code",
     "collapsed": false,
     "input": [
      "ma.to_csv('ma.csv')"
     ],
     "language": "python",
     "metadata": {},
     "outputs": [],
     "prompt_number": 20
    }
   ],
   "metadata": {}
  }
 ]
}